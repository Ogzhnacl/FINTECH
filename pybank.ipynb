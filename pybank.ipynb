{
 "cells": [
  {
   "cell_type": "code",
   "execution_count": 1,
   "metadata": {},
   "outputs": [],
   "source": [
    "import csv \n",
    "with open ('budget_data.csv') as csv_file:\n",
    "    next(csv_file)\n",
    "    csv_reader = csv.reader(csv_file,delimiter=',')\n",
    "    months =  []\n",
    "    profit_losses = []\n",
    "    profit_change = []\n",
    "    for csv in csv_reader:\n",
    "        if csv[0] not in months:\n",
    "            months.append(csv[0])\n",
    "        profit_losses.append(int(csv[1]))"
   ]
  },
  {
   "cell_type": "code",
   "execution_count": 2,
   "metadata": {},
   "outputs": [],
   "source": [
    "#Calculate the change profit value according the previous months\n",
    "for i in range(len(profit_losses)-1):\n",
    "    profit_change.append(profit_losses[i+1]-profit_losses[i])\n",
    "max_change=max(profit_change)\n",
    "min_change=min(profit_change)\n",
    "#to find max profit month\n",
    "max_change_month=profit_change.index(max(profit_change))+1\n",
    "min_change_month=profit_change.index(min(profit_change))+1"
   ]
  },
  {
   "cell_type": "code",
   "execution_count": 3,
   "metadata": {},
   "outputs": [
    {
     "name": "stdout",
     "output_type": "stream",
     "text": [
      "Number of Total Months:  86\n",
      "Total:  38382578\n",
      "Average  Change:  -2315.1176470588234\n",
      "Greatest Increase in Profits:  Feb-2012 1926159\n",
      "Greatest Decrease in Profits:  Sep-2013 -2196167\n"
     ]
    }
   ],
   "source": [
    "#write output data and value\n",
    "print (\"Number of Total Months: \" , len(months))\n",
    "print (\"Total: \" , sum(profit_losses))\n",
    "print (\"Average  Change: \" , sum(profit_change)/len(profit_change))\n",
    "print (f\"Greatest Increase in Profits:  {months[max_change_month]} {max(profit_change)}\" )\n",
    "print (f\"Greatest Decrease in Profits:  {months[min_change_month]} {min(profit_change)}\" )"
   ]
  },
  {
   "cell_type": "code",
   "execution_count": 4,
   "metadata": {},
   "outputs": [],
   "source": [
    "total_months=len(months)\n",
    "profit_losses=sum(profit_losses)\n",
    "Average_chg=sum(profit_change)/len(profit_change)"
   ]
  },
  {
   "cell_type": "code",
   "execution_count": 7,
   "metadata": {},
   "outputs": [],
   "source": [
    "#Write out report to a text file\n",
    "with open('Result.txt',\"w\") as file:\n",
    "    file.write(f\"Result:\")\n",
    "    file.write(\"\\n\")\n",
    "    file.write(f\"Number of Total Months:  {total_months}\")\n",
    "    file.write(\"\\n\")\n",
    "    file.write(f\"Total:  {profit_losses}\")\n",
    "    file.write(\"\\n\")\n",
    "    file.write(f\"Average  Change: {Average_chg}\")\n",
    "    file.write(\"\\n\")\n",
    "    file.write(f\"Greatest Increase in Profits:  {months[max_change_month]} {max(profit_change)}\" )\n",
    "    file.write(\"\\n\")\n",
    "    file.write(f\"Greatest Decrease in Profits:  {months[min_change_month]} {min(profit_change)}\" )"
   ]
  },
  {
   "cell_type": "code",
   "execution_count": null,
   "metadata": {},
   "outputs": [],
   "source": []
  }
 ],
 "metadata": {
  "kernelspec": {
   "display_name": "Python 3",
   "language": "python",
   "name": "python3"
  },
  "language_info": {
   "codemirror_mode": {
    "name": "ipython",
    "version": 3
   },
   "file_extension": ".py",
   "mimetype": "text/x-python",
   "name": "python",
   "nbconvert_exporter": "python",
   "pygments_lexer": "ipython3",
   "version": "3.8.3"
  }
 },
 "nbformat": 4,
 "nbformat_minor": 4
}
